{
 "cells": [
  {
   "cell_type": "markdown",
   "metadata": {
    "colab_type": "text",
    "id": "0MRC0e0KhQ0S"
   },
   "source": [
    "# Logistic Regression"
   ]
  },
  {
   "cell_type": "markdown",
   "metadata": {
    "colab_type": "text",
    "id": "LWd1UlMnhT2s"
   },
   "source": [
    "## Importing the libraries"
   ]
  },
  {
   "cell_type": "code",
   "execution_count": 1,
   "metadata": {
    "colab": {},
    "colab_type": "code",
    "id": "YvGPUQaHhXfL"
   },
   "outputs": [],
   "source": [
    "import numpy as np\n",
    "import matplotlib.pyplot as plt\n",
    "import pandas as pd"
   ]
  },
  {
   "cell_type": "markdown",
   "metadata": {
    "colab_type": "text",
    "id": "K1VMqkGvhc3-"
   },
   "source": [
    "## Importing the dataset"
   ]
  },
  {
   "cell_type": "code",
   "execution_count": 31,
   "metadata": {
    "colab": {},
    "colab_type": "code",
    "id": "M52QDmyzhh9s"
   },
   "outputs": [
    {
     "data": {
      "text/html": [
       "<div>\n",
       "<style scoped>\n",
       "    .dataframe tbody tr th:only-of-type {\n",
       "        vertical-align: middle;\n",
       "    }\n",
       "\n",
       "    .dataframe tbody tr th {\n",
       "        vertical-align: top;\n",
       "    }\n",
       "\n",
       "    .dataframe thead th {\n",
       "        text-align: right;\n",
       "    }\n",
       "</style>\n",
       "<table border=\"1\" class=\"dataframe\">\n",
       "  <thead>\n",
       "    <tr style=\"text-align: right;\">\n",
       "      <th></th>\n",
       "      <th>Age</th>\n",
       "      <th>EstimatedSalary</th>\n",
       "      <th>Purchased</th>\n",
       "    </tr>\n",
       "  </thead>\n",
       "  <tbody>\n",
       "    <tr>\n",
       "      <th>0</th>\n",
       "      <td>19</td>\n",
       "      <td>19000</td>\n",
       "      <td>0</td>\n",
       "    </tr>\n",
       "    <tr>\n",
       "      <th>1</th>\n",
       "      <td>35</td>\n",
       "      <td>20000</td>\n",
       "      <td>0</td>\n",
       "    </tr>\n",
       "    <tr>\n",
       "      <th>2</th>\n",
       "      <td>26</td>\n",
       "      <td>43000</td>\n",
       "      <td>0</td>\n",
       "    </tr>\n",
       "    <tr>\n",
       "      <th>3</th>\n",
       "      <td>27</td>\n",
       "      <td>57000</td>\n",
       "      <td>0</td>\n",
       "    </tr>\n",
       "    <tr>\n",
       "      <th>4</th>\n",
       "      <td>19</td>\n",
       "      <td>76000</td>\n",
       "      <td>0</td>\n",
       "    </tr>\n",
       "  </tbody>\n",
       "</table>\n",
       "</div>"
      ],
      "text/plain": [
       "   Age  EstimatedSalary  Purchased\n",
       "0   19            19000          0\n",
       "1   35            20000          0\n",
       "2   26            43000          0\n",
       "3   27            57000          0\n",
       "4   19            76000          0"
      ]
     },
     "execution_count": 31,
     "metadata": {},
     "output_type": "execute_result"
    }
   ],
   "source": [
    "dataset = pd.read_csv('C:/Users/admin/IBM_Training/Training/ML Algorithms/Social_Network_Ads.csv')\n",
    "dataset.head()"
   ]
  },
  {
   "cell_type": "code",
   "execution_count": 32,
   "metadata": {},
   "outputs": [],
   "source": [
    "x = dataset.iloc[:, :-1]\n",
    "y = dataset.iloc[:, -1]"
   ]
  },
  {
   "cell_type": "markdown",
   "metadata": {
    "colab_type": "text",
    "id": "YvxIPVyMhmKp"
   },
   "source": [
    "## Splitting the dataset into the Training set and Test set"
   ]
  },
  {
   "cell_type": "code",
   "execution_count": 33,
   "metadata": {
    "colab": {},
    "colab_type": "code",
    "id": "AVzJWAXIhxoC"
   },
   "outputs": [],
   "source": [
    "from sklearn.model_selection import train_test_split\n",
    "x_train, x_test, y_train, y_test = train_test_split(x, y, test_size = 0.3)"
   ]
  },
  {
   "cell_type": "code",
   "execution_count": 13,
   "metadata": {},
   "outputs": [
    {
     "data": {
      "text/plain": [
       "143    0\n",
       "369    1\n",
       "36     0\n",
       "76     0\n",
       "56     0\n",
       "Name: Purchased, dtype: int64"
      ]
     },
     "execution_count": 13,
     "metadata": {},
     "output_type": "execute_result"
    }
   ],
   "source": [
    "y_train.head()"
   ]
  },
  {
   "cell_type": "markdown",
   "metadata": {
    "colab_type": "text",
    "id": "kW3c7UYih0hT"
   },
   "source": [
    "## Feature Scaling"
   ]
  },
  {
   "cell_type": "code",
   "execution_count": 45,
   "metadata": {
    "colab": {},
    "colab_type": "code",
    "id": "9fQlDPKCh8sc"
   },
   "outputs": [],
   "source": [
    "from sklearn.preprocessing import StandardScaler\n",
    "sc = StandardScaler()\n",
    "x_train = sc.fit_transform(x_train)\n",
    "x_test = sc.fit_transform(x_test)"
   ]
  },
  {
   "cell_type": "code",
   "execution_count": 50,
   "metadata": {},
   "outputs": [
    {
     "data": {
      "text/plain": [
       "array([[ 2.15443521, -1.0473756 ],\n",
       "       [-1.66892869,  0.44921788],\n",
       "       [-0.03034416,  1.571663  ],\n",
       "       [ 0.42481821,  0.24775338],\n",
       "       [-0.66757147,  2.23361781],\n",
       "       [-0.9406689 , -1.01859496],\n",
       "       [ 2.06340274, -1.19127882],\n",
       "       [ 0.97101305, -1.16249818],\n",
       "       [-0.84963642, -0.35664015],\n",
       "       [ 0.15172079,  1.19751463],\n",
       "       [ 0.15172079,  0.27653402],\n",
       "       [-0.30344158,  2.26239845],\n",
       "       [-1.39583126,  0.04628887],\n",
       "       [ 0.33378574,  0.04628887],\n",
       "       [ 1.79030532,  1.80190815],\n",
       "       [-0.30344158,  1.22629527],\n",
       "       [-1.66892869, -0.06883371],\n",
       "       [ 0.24275326,  1.83068879],\n",
       "       [-1.57789621, -0.01127242],\n",
       "       [-0.39447405,  2.29117909],\n",
       "       [-0.03034416, -0.29907886],\n",
       "       [-1.66892869,  0.33409531],\n",
       "       [ 0.42481821,  0.27653402],\n",
       "       [-0.12137663, -1.36396268],\n",
       "       [ 0.51585068,  0.56434046],\n",
       "       [ 2.06340274,  0.50677917],\n",
       "       [ 0.60688316,  1.68678557],\n",
       "       [-1.66892869, -0.75956916],\n",
       "       [-1.48686374, -0.98981431],\n",
       "       [-1.21376632, -0.64444658],\n",
       "       [-0.576539  ,  1.05361141],\n",
       "       [-0.66757147, -0.7883498 ],\n",
       "       [-0.48550653,  0.16141144],\n",
       "       [ 1.06204553, -0.84591109],\n",
       "       [-0.75860395,  0.47799853],\n",
       "       [-0.03034416,  1.60044364],\n",
       "       [-0.75860395,  0.42043724],\n",
       "       [ 0.06068832, -0.38542079],\n",
       "       [-0.12137663, -0.50054337],\n",
       "       [ 0.24275326,  1.02483076],\n",
       "       [ 1.153078  ,  0.50677917],\n",
       "       [ 0.24275326,  0.01750823],\n",
       "       [ 0.42481821, -1.16249818],\n",
       "       [ 1.88133779, -0.29907886],\n",
       "       [ 0.42481821, -0.3278595 ],\n",
       "       [ 0.42481821, -0.21273693],\n",
       "       [ 0.51585068,  1.08239205],\n",
       "       [-0.66757147, -0.67322723],\n",
       "       [-0.84963642, -0.35664015],\n",
       "       [ 1.5172079 ,  0.96726947],\n",
       "       [ 0.78894811, -1.27762075],\n",
       "       [-0.84963642, -0.38542079],\n",
       "       [ 0.97101305,  0.99605012],\n",
       "       [-0.21240911, -1.30640139],\n",
       "       [-0.75860395,  1.51410171],\n",
       "       [ 2.15443521, -0.70200787],\n",
       "       [ 1.06204553, -1.07615624],\n",
       "       [-1.12273384, -1.24884011],\n",
       "       [ 0.97101305, -1.36396268],\n",
       "       [-0.48550653,  0.01750823],\n",
       "       [ 0.15172079, -0.55810465],\n",
       "       [ 1.88133779,  0.10385016],\n",
       "       [ 1.153078  ,  0.44921788],\n",
       "       [-1.03170137,  0.56434046],\n",
       "       [ 0.69791563, -0.90347238],\n",
       "       [ 0.06068832,  0.04628887],\n",
       "       [ 0.06068832,  0.27653402],\n",
       "       [ 0.33378574,  0.1326308 ],\n",
       "       [-0.21240911,  0.04628887],\n",
       "       [-0.30344158, -0.7883498 ],\n",
       "       [-0.84963642,  1.91703072],\n",
       "       [ 2.15443521,  0.90970819],\n",
       "       [-0.9406689 , -1.59420783],\n",
       "       [ 1.42617542,  0.56434046],\n",
       "       [-1.30479879, -0.21273693],\n",
       "       [ 0.33378574, -0.38542079],\n",
       "       [-0.576539  , -0.24151757],\n",
       "       [ 0.06068832,  0.27653402],\n",
       "       [-0.12137663, -0.3278595 ],\n",
       "       [-0.03034416,  2.11849523],\n",
       "       [-1.57789621, -1.47908526],\n",
       "       [-1.57789621,  0.42043724],\n",
       "       [ 0.15172079, -0.5868853 ],\n",
       "       [ 0.15172079, -0.3278595 ],\n",
       "       [-0.48550653, -1.5078659 ],\n",
       "       [ 1.5172079 ,  2.08971459],\n",
       "       [-0.75860395, -0.3278595 ],\n",
       "       [-1.03170137,  0.27653402],\n",
       "       [ 1.42617542, -0.93225302],\n",
       "       [ 0.42481821,  0.04628887],\n",
       "       [-0.21240911,  1.28385656],\n",
       "       [ 0.51585068, -0.15517564],\n",
       "       [ 0.06068832,  0.65068239],\n",
       "       [ 0.06068832,  0.1326308 ],\n",
       "       [-0.12137663, -1.39274333],\n",
       "       [ 1.153078  , -1.22005946],\n",
       "       [-0.12137663, -1.45030461],\n",
       "       [-0.75860395, -0.44298208],\n",
       "       [-0.48550653, -1.0473756 ],\n",
       "       [-0.30344158, -1.13371753],\n",
       "       [ 0.33378574, -0.27029821],\n",
       "       [-0.9406689 , -1.59420783],\n",
       "       [ 1.97237027,  2.11849523],\n",
       "       [-0.12137663, -0.15517564],\n",
       "       [-1.39583126, -1.56542719],\n",
       "       [-0.9406689 , -0.7883498 ],\n",
       "       [-1.48686374, -0.61566594],\n",
       "       [-0.48550653, -0.06883371],\n",
       "       [-0.66757147,  0.27653402],\n",
       "       [-0.84963642,  0.50677917],\n",
       "       [ 1.97237027, -0.93225302],\n",
       "       [ 0.06068832,  0.21897273],\n",
       "       [-1.12273384, -1.47908526],\n",
       "       [-1.21376632,  0.33409531],\n",
       "       [ 1.79030532,  0.96726947],\n",
       "       [-0.75860395, -0.96103367],\n",
       "       [ 0.97101305, -0.55810465],\n",
       "       [-1.03170137,  0.47799853],\n",
       "       [ 0.97101305,  2.11849523],\n",
       "       [ 0.51585068, -0.18395628]])"
      ]
     },
     "execution_count": 50,
     "metadata": {},
     "output_type": "execute_result"
    }
   ],
   "source": [
    "x_test"
   ]
  },
  {
   "cell_type": "code",
   "execution_count": 38,
   "metadata": {
    "colab": {
     "base_uri": "https://localhost:8080/",
     "height": 1000
    },
    "colab_type": "code",
    "executionInfo": {
     "elapsed": 2133,
     "status": "ok",
     "timestamp": 1588265315504,
     "user": {
      "displayName": "Hadelin de Ponteves",
      "photoUrl": "https://lh3.googleusercontent.com/a-/AOh14GhEuXdT7eQweUmRPW8_laJuPggSK6hfvpl5a6WBaA=s64",
      "userId": "15047218817161520419"
     },
     "user_tz": -240
    },
    "id": "JUd6iBRp2C3L",
    "outputId": "3ed7b1f1-8fb7-48bc-8df8-39b6f65081ae"
   },
   "outputs": [
    {
     "name": "stdout",
     "output_type": "stream",
     "text": [
      "[[ 0.84304719 -0.59403479]\n",
      " [-1.37477303 -1.35199309]\n",
      " [-0.3140764  -0.93090514]\n",
      " [-0.12122247 -1.07126779]\n",
      " [ 1.03590112 -1.21163044]\n",
      " [-0.8926382  -1.21163044]\n",
      " [-1.47119999 -0.65017985]\n",
      " [ 0.07163146 -0.28523696]\n",
      " [ 0.36091236 -0.03258419]\n",
      " [-0.3140764   0.22006858]\n",
      " [-0.8926382   0.10777846]\n",
      " [-0.69978427 -0.00451166]\n",
      " [-0.50693033 -0.84668756]\n",
      " [-1.08549213  0.52886641]\n",
      " [ 1.51803595  0.92188183]\n",
      " [-0.3140764  -0.34138202]\n",
      " [ 0.16805843  0.02356087]\n",
      " [-1.18191909  0.24814111]\n",
      " [-1.37477303 -1.46428321]\n",
      " [-0.41050337 -0.7905425 ]\n",
      " [ 1.42160898  0.02356087]\n",
      " [-0.79621123 -1.57657333]\n",
      " [-0.50693033 -0.06065672]\n",
      " [-1.18191909 -1.09934032]\n",
      " [ 0.26448539  0.02356087]\n",
      " [-1.27834606  0.24814111]\n",
      " [-0.69978427 -0.14487431]\n",
      " [-1.95333482 -0.76246997]\n",
      " [ 0.07163146 -0.00451166]\n",
      " [-0.3140764   0.55693894]\n",
      " [ 0.26448539 -0.2290919 ]\n",
      " [ 0.93947415  1.96056544]\n",
      " [ 0.93947415 -1.18355791]\n",
      " [-0.69978427  0.07970593]\n",
      " [ 0.65019325 -0.73439744]\n",
      " [-1.47119999 -0.2290919 ]\n",
      " [ 1.42160898  0.30428617]\n",
      " [ 1.61446291  1.51140496]\n",
      " [-0.21764944 -0.59403479]\n",
      " [ 0.74662022  0.07970593]\n",
      " [ 0.07163146  1.42718737]\n",
      " [-1.95333482  0.41657629]\n",
      " [ 1.80731684 -1.2677755 ]\n",
      " [ 0.36091236 -0.48174467]\n",
      " [-0.12122247  0.19199605]\n",
      " [ 0.84304719 -1.43621068]\n",
      " [-0.21764944  1.31489725]\n",
      " [ 0.26448539 -0.00451166]\n",
      " [-1.76048089  0.41657629]\n",
      " [-0.79621123  1.25875219]\n",
      " [-1.66405392  0.02356087]\n",
      " [ 0.93947415  1.76405773]\n",
      " [-0.50693033 -1.12741285]\n",
      " [ 1.80731684  1.42718737]\n",
      " [-0.6033573   1.28682472]\n",
      " [ 0.36091236 -0.17294684]\n",
      " [-1.56762696 -0.2290919 ]\n",
      " [ 0.74662022  0.47272135]\n",
      " [-1.18191909 -1.57657333]\n",
      " [-1.66405392 -0.08872925]\n",
      " [-1.18191909  0.24814111]\n",
      " [-1.76048089 -0.62210732]\n",
      " [-0.8926382   0.24814111]\n",
      " [-1.76048089  0.30428617]\n",
      " [ 0.16805843  0.10777846]\n",
      " [ 0.26448539 -0.34138202]\n",
      " [ 0.16805843  0.19199605]\n",
      " [ 2.00017078  0.47272135]\n",
      " [ 0.36091236  0.0516334 ]\n",
      " [-1.37477303 -0.36945455]\n",
      " [ 0.84304719 -0.7905425 ]\n",
      " [ 0.26448539 -0.56596226]\n",
      " [-0.12122247 -0.00451166]\n",
      " [-1.37477303  0.50079388]\n",
      " [-0.41050337 -1.29584803]\n",
      " [-0.02479551 -0.00451166]\n",
      " [-0.12122247 -0.53788973]\n",
      " [-0.02479551  1.14646207]\n",
      " [-1.18191909 -1.15548538]\n",
      " [-0.69978427 -0.36945455]\n",
      " [-0.02479551 -0.59403479]\n",
      " [ 0.16805843  1.00609942]\n",
      " [ 0.84304719  0.94995436]\n",
      " [-0.6033573   1.79213026]\n",
      " [-1.27834606  0.22006858]\n",
      " [ 0.74662022  0.69730159]\n",
      " [ 1.80731684 -0.31330949]\n",
      " [ 0.93947415 -0.84668756]\n",
      " [-1.76048089  0.30428617]\n",
      " [ 0.84304719 -1.15548538]\n",
      " [-0.12122247  0.24814111]\n",
      " [ 0.26448539  0.22006858]\n",
      " [-1.08549213  0.36043123]\n",
      " [-1.37477303  0.36043123]\n",
      " [ 0.16805843 -0.28523696]\n",
      " [-1.08549213 -0.36945455]\n",
      " [-1.18191909 -0.53788973]\n",
      " [ 0.45733932  1.7359852 ]\n",
      " [ 0.84304719 -0.67825238]\n",
      " [ 0.93947415 -1.15548538]\n",
      " [-0.98906516 -1.09934032]\n",
      " [ 1.22875505 -1.35199309]\n",
      " [ 0.84304719 -1.35199309]\n",
      " [ 1.13232808 -0.76246997]\n",
      " [-0.6033573   0.41657629]\n",
      " [-1.95333482  0.30428617]\n",
      " [-1.08549213  0.47272135]\n",
      " [-1.85690785  0.13585099]\n",
      " [ 0.16805843 -0.39752708]\n",
      " [-0.21764944  1.51140496]\n",
      " [-0.3140764  -1.29584803]\n",
      " [ 0.74662022  0.30428617]\n",
      " [ 2.00017078 -1.18355791]\n",
      " [-1.08549213  0.50079388]\n",
      " [-1.76048089 -1.35199309]\n",
      " [-0.21764944 -0.53788973]\n",
      " [-0.8926382  -0.7905425 ]\n",
      " [ 1.71088988  0.92188183]\n",
      " [-1.08549213 -1.52042827]\n",
      " [ 0.93947415 -1.07126779]]\n"
     ]
    }
   ],
   "source": [
    "print(x_test)"
   ]
  },
  {
   "cell_type": "markdown",
   "metadata": {
    "colab_type": "text",
    "id": "bb6jCOCQiAmP"
   },
   "source": [
    "## Training the Logistic Regression model on the Training set"
   ]
  },
  {
   "cell_type": "code",
   "execution_count": 35,
   "metadata": {
    "colab": {
     "base_uri": "https://localhost:8080/",
     "height": 103
    },
    "colab_type": "code",
    "executionInfo": {
     "elapsed": 2125,
     "status": "ok",
     "timestamp": 1588265315505,
     "user": {
      "displayName": "Hadelin de Ponteves",
      "photoUrl": "https://lh3.googleusercontent.com/a-/AOh14GhEuXdT7eQweUmRPW8_laJuPggSK6hfvpl5a6WBaA=s64",
      "userId": "15047218817161520419"
     },
     "user_tz": -240
    },
    "id": "e0pFVAmciHQs",
    "outputId": "67f64468-abdb-4fe7-cce9-de0037119610"
   },
   "outputs": [
    {
     "name": "stderr",
     "output_type": "stream",
     "text": [
      "C:\\Users\\admin\\Anaconda3\\lib\\site-packages\\sklearn\\linear_model\\logistic.py:432: FutureWarning: Default solver will be changed to 'lbfgs' in 0.22. Specify a solver to silence this warning.\n",
      "  FutureWarning)\n"
     ]
    },
    {
     "data": {
      "text/plain": [
       "LogisticRegression(C=1.0, class_weight=None, dual=False, fit_intercept=True,\n",
       "                   intercept_scaling=1, l1_ratio=None, max_iter=100,\n",
       "                   multi_class='warn', n_jobs=None, penalty='l2',\n",
       "                   random_state=None, solver='warn', tol=0.0001, verbose=0,\n",
       "                   warm_start=False)"
      ]
     },
     "execution_count": 35,
     "metadata": {},
     "output_type": "execute_result"
    }
   ],
   "source": [
    "from sklearn.linear_model import LogisticRegression\n",
    "classifier = LogisticRegression()\n",
    "classifier.fit(x_train, y_train)"
   ]
  },
  {
   "cell_type": "markdown",
   "metadata": {
    "colab_type": "text",
    "id": "yyxW5b395mR2"
   },
   "source": [
    "## Predicting a new result"
   ]
  },
  {
   "cell_type": "code",
   "execution_count": 36,
   "metadata": {
    "colab": {
     "base_uri": "https://localhost:8080/",
     "height": 34
    },
    "colab_type": "code",
    "executionInfo": {
     "elapsed": 2118,
     "status": "ok",
     "timestamp": 1588265315505,
     "user": {
      "displayName": "Hadelin de Ponteves",
      "photoUrl": "https://lh3.googleusercontent.com/a-/AOh14GhEuXdT7eQweUmRPW8_laJuPggSK6hfvpl5a6WBaA=s64",
      "userId": "15047218817161520419"
     },
     "user_tz": -240
    },
    "id": "f8YOXsQy58rP",
    "outputId": "2e1b0063-548e-4924-cf3a-93a79d97e35e"
   },
   "outputs": [
    {
     "name": "stdout",
     "output_type": "stream",
     "text": [
      "[0]\n"
     ]
    }
   ],
   "source": [
    "print(classifier.predict(sc.transform([[30,87000]])))"
   ]
  },
  {
   "cell_type": "code",
   "execution_count": 37,
   "metadata": {},
   "outputs": [
    {
     "data": {
      "text/plain": [
       "355    1\n",
       "165    0\n",
       "308    1\n",
       "288    0\n",
       "168    1\n",
       "Name: Purchased, dtype: int64"
      ]
     },
     "execution_count": 37,
     "metadata": {},
     "output_type": "execute_result"
    }
   ],
   "source": [
    "y_test.head()"
   ]
  },
  {
   "cell_type": "markdown",
   "metadata": {
    "colab_type": "text",
    "id": "vKYVQH-l5NpE"
   },
   "source": [
    "## Predicting the Test set results"
   ]
  },
  {
   "cell_type": "code",
   "execution_count": 38,
   "metadata": {
    "colab": {
     "base_uri": "https://localhost:8080/",
     "height": 1000
    },
    "colab_type": "code",
    "executionInfo": {
     "elapsed": 2112,
     "status": "ok",
     "timestamp": 1588265315506,
     "user": {
      "displayName": "Hadelin de Ponteves",
      "photoUrl": "https://lh3.googleusercontent.com/a-/AOh14GhEuXdT7eQweUmRPW8_laJuPggSK6hfvpl5a6WBaA=s64",
      "userId": "15047218817161520419"
     },
     "user_tz": -240
    },
    "id": "p6VMTb2O4hwM",
    "outputId": "a4f03a97-2942-45cd-f735-f4063277a96c"
   },
   "outputs": [
    {
     "data": {
      "text/plain": [
       "array([1, 0, 1, 0, 0, 0, 1, 0, 0, 1, 0, 1, 0, 0, 1, 0, 0, 1, 0, 0, 0, 0,\n",
       "       0, 0, 1, 1, 1, 0, 0, 0, 0, 0, 0, 1, 0, 1, 0, 0, 0, 1, 1, 0, 0, 1,\n",
       "       0, 0, 1, 0, 0, 1, 0, 0, 1, 0, 0, 1, 0, 0, 0, 0, 0, 1, 1, 0, 0, 0,\n",
       "       0, 0, 0, 0, 0, 1, 0, 1, 0, 0, 0, 0, 0, 1, 0, 0, 0, 0, 0, 1, 0, 0,\n",
       "       1, 0, 0, 0, 0, 0, 0, 1, 0, 0, 0, 0, 0, 0, 1, 0, 0, 0, 0, 0, 0, 0,\n",
       "       1, 0, 0, 0, 1, 0, 1, 0, 1, 0], dtype=int64)"
      ]
     },
     "execution_count": 38,
     "metadata": {},
     "output_type": "execute_result"
    }
   ],
   "source": [
    "y_pred = classifier.predict(x_test)\n",
    "y_pred"
   ]
  },
  {
   "cell_type": "markdown",
   "metadata": {
    "colab_type": "text",
    "id": "h4Hwj34ziWQW"
   },
   "source": [
    "## Making the Confusion Matrix"
   ]
  },
  {
   "cell_type": "code",
   "execution_count": 39,
   "metadata": {
    "colab": {
     "base_uri": "https://localhost:8080/",
     "height": 68
    },
    "colab_type": "code",
    "executionInfo": {
     "elapsed": 2107,
     "status": "ok",
     "timestamp": 1588265315506,
     "user": {
      "displayName": "Hadelin de Ponteves",
      "photoUrl": "https://lh3.googleusercontent.com/a-/AOh14GhEuXdT7eQweUmRPW8_laJuPggSK6hfvpl5a6WBaA=s64",
      "userId": "15047218817161520419"
     },
     "user_tz": -240
    },
    "id": "D6bpZwUiiXic",
    "outputId": "f202fcb3-5882-4d93-e5df-50791185067e"
   },
   "outputs": [
    {
     "name": "stdout",
     "output_type": "stream",
     "text": [
      "[[77  1]\n",
      " [11 31]]\n",
      "0.9\n",
      "              precision    recall  f1-score   support\n",
      "\n",
      "           0       0.88      0.99      0.93        78\n",
      "           1       0.97      0.74      0.84        42\n",
      "\n",
      "    accuracy                           0.90       120\n",
      "   macro avg       0.92      0.86      0.88       120\n",
      "weighted avg       0.91      0.90      0.90       120\n",
      "\n"
     ]
    }
   ],
   "source": [
    "from sklearn.metrics import confusion_matrix, accuracy_score, classification_report\n",
    "cm = confusion_matrix(y_test, y_pred)\n",
    "print(cm)\n",
    "print(accuracy_score(y_test, y_pred))\n",
    "print(classification_report(y_test,y_pred))"
   ]
  }
 ],
 "metadata": {
  "colab": {
   "authorship_tag": "ABX9TyOsvB/iqEjYj3VN6C/JbvkE",
   "collapsed_sections": [],
   "machine_shape": "hm",
   "name": "logistic_regression.ipynb",
   "provenance": [],
   "toc_visible": true
  },
  "kernelspec": {
   "display_name": "Python 3",
   "language": "python",
   "name": "python3"
  },
  "language_info": {
   "codemirror_mode": {
    "name": "ipython",
    "version": 3
   },
   "file_extension": ".py",
   "mimetype": "text/x-python",
   "name": "python",
   "nbconvert_exporter": "python",
   "pygments_lexer": "ipython3",
   "version": "3.7.1"
  }
 },
 "nbformat": 4,
 "nbformat_minor": 1
}
