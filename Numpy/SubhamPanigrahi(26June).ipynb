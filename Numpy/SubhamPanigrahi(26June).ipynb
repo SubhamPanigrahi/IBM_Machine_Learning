{
 "cells": [
  {
   "cell_type": "code",
   "execution_count": 1,
   "metadata": {},
   "outputs": [],
   "source": [
    "import numpy as np"
   ]
  },
  {
   "cell_type": "markdown",
   "metadata": {},
   "source": [
    "#### 1. Create a 4X2 integer array and Prints its attributes"
   ]
  },
  {
   "cell_type": "code",
   "execution_count": 5,
   "metadata": {},
   "outputs": [
    {
     "name": "stdout",
     "output_type": "stream",
     "text": [
      "The Total size of the Array is : 8.\n",
      "The shape of the array is (4, 2).\n",
      "Data type of elements of arr is of type : int32.\n",
      "Total memory given to arr is 32 bytes.\n"
     ]
    }
   ],
   "source": [
    "arr = np.arange(8).reshape(4,2)\n",
    "print(\"The Total size of the Array is : {}.\".format(arr.size))\n",
    "print(\"The shape of the array is {}.\".format(arr.shape))\n",
    "print(\"Data type of elements of arr is of type : {}.\".format(arr.dtype))\n",
    "print(\"Total memory given to arr is {} bytes.\".format(arr.nbytes))"
   ]
  },
  {
   "cell_type": "markdown",
   "metadata": {},
   "source": [
    "#### 2. Create a 5X2 integer array from a range between 100 to 300 such that the difference between each  element is 20."
   ]
  },
  {
   "cell_type": "code",
   "execution_count": 7,
   "metadata": {},
   "outputs": [
    {
     "name": "stdout",
     "output_type": "stream",
     "text": [
      "[[100 120]\n",
      " [140 160]\n",
      " [180 200]\n",
      " [220 240]\n",
      " [260 280]]\n"
     ]
    }
   ],
   "source": [
    "arr1 = np.arange(100,300,20).reshape(5,2)\n",
    "print(arr1)"
   ]
  },
  {
   "cell_type": "markdown",
   "metadata": {},
   "source": [
    "#### 3. Following is the given numpy array return array of odd rows and even columns"
   ]
  },
  {
   "cell_type": "code",
   "execution_count": 12,
   "metadata": {},
   "outputs": [
    {
     "name": "stdout",
     "output_type": "stream",
     "text": [
      "[[ 3  6  9 12]\n",
      " [15 18 21 24]\n",
      " [27 30 33 36]\n",
      " [39 42 45 48]\n",
      " [51 54 57 60]]\n",
      "\n",
      "[[ 6 12]\n",
      " [30 36]\n",
      " [54 60]]\n"
     ]
    }
   ],
   "source": [
    "# This program assumes that the first row (index = 0) is odd row.\n",
    "sampleArray = np.array([[3 ,6, 9, 12], [15 ,18, 21, 24],[27 ,30, 33, 36], [39 ,42, 45, 48], [51 ,54, 57, 60]])\n",
    "print(sampleArray)\n",
    "print()\n",
    "\n",
    "ans = sampleArray[0::2,1::2]\n",
    "print(ans)"
   ]
  },
  {
   "cell_type": "markdown",
   "metadata": {},
   "source": [
    "#### 4. Write a NumPy program to create an array of 5 zeros, 5 ones, 5 fives."
   ]
  },
  {
   "cell_type": "code",
   "execution_count": 93,
   "metadata": {},
   "outputs": [
    {
     "name": "stdout",
     "output_type": "stream",
     "text": [
      "First Array :  [0 0 0 0 0]\n",
      "\n",
      "Second Array :  [1 1 1 1 1]\n",
      "\n",
      "Third Array :  [5 5 5 5 5]\n",
      "\n",
      "FINAL ANSWER :  [0 0 0 0 0 1 1 1 1 1 5 5 5 5 5]\n"
     ]
    }
   ],
   "source": [
    "arr1 = np.zeros(5, dtype = \"i\")\n",
    "arr2 = np.ones(5, dtype = \"i\")\n",
    "arr3 = np.full(5,5)\n",
    "\n",
    "ans = np.hstack((arr1,arr2,arr3))\n",
    "\n",
    "print(\"First Array :  {}\".format(arr1))\n",
    "print()\n",
    "print(\"Second Array :  {}\".format(arr2))\n",
    "print()\n",
    "print(\"Third Array :  {}\".format(arr3))\n",
    "print()\n",
    "print(\"FINAL ANSWER :  {}\".format(ans))"
   ]
  },
  {
   "cell_type": "markdown",
   "metadata": {},
   "source": [
    "#### 5. Write a NumPy program to create a 4X5 array using and iterate over it."
   ]
  },
  {
   "cell_type": "code",
   "execution_count": 22,
   "metadata": {},
   "outputs": [
    {
     "name": "stdout",
     "output_type": "stream",
     "text": [
      "The elements in the arr are : \n",
      "0\n",
      "1\n",
      "2\n",
      "3\n",
      "4\n",
      "5\n",
      "6\n",
      "7\n",
      "8\n",
      "9\n",
      "10\n",
      "11\n",
      "12\n",
      "13\n",
      "14\n",
      "15\n",
      "16\n",
      "17\n",
      "18\n",
      "19\n"
     ]
    }
   ],
   "source": [
    "arr = np.arange(20).reshape(4,5)\n",
    "print(\"The elements in the arr are : \")\n",
    "for i in range(arr.shape[0]):\n",
    "    for j in range(arr.shape[1]):\n",
    "        print(arr[i][j])"
   ]
  },
  {
   "cell_type": "markdown",
   "metadata": {},
   "source": [
    "#### 6. Write a NumPy program to get the number of items, array dimensions, number of array dimensions and  the memory size of each element of a given array. "
   ]
  },
  {
   "cell_type": "code",
   "execution_count": 27,
   "metadata": {},
   "outputs": [
    {
     "name": "stdout",
     "output_type": "stream",
     "text": [
      "Number of Items is : 20\n",
      "Array Dimensions is : 2\n",
      "Shape of the Array is of the form : (4, 5)\n",
      "Memory taken by each item in arr is : 4\n"
     ]
    }
   ],
   "source": [
    "arr = np.arange(20).reshape(4,5)\n",
    "\n",
    "print(\"Number of Items is : {}\".format(arr.size))\n",
    "print(\"Array Dimensions is : {}\".format(arr.ndim))\n",
    "print(\"Shape of the Array is of the form : {}\".format(arr.shape))\n",
    "print(\"Memory taken by each item in arr is : {}\".format(arr.itemsize))"
   ]
  },
  {
   "cell_type": "markdown",
   "metadata": {},
   "source": [
    "#### 7. Write a NumPy program to get the unique elements of an array."
   ]
  },
  {
   "cell_type": "code",
   "execution_count": 29,
   "metadata": {},
   "outputs": [
    {
     "name": "stdout",
     "output_type": "stream",
     "text": [
      "Original array is :  [1 2 3 4 5 6 6 6 4 3 7 9 8 0 2 2 1 1 1]\n",
      "The updated array is :  [0 1 2 3 4 5 6 7 8 9]\n"
     ]
    }
   ],
   "source": [
    "arr = np.array([1,2,3,4,5,6,6,6,4,3,7,9,8,0,2,2,1,1,1])\n",
    "print(\"Original array is :  {}\".format(arr))\n",
    "ans = np.unique(arr)\n",
    "print(\"The updated array is :  {}\".format(ans))"
   ]
  },
  {
   "cell_type": "markdown",
   "metadata": {},
   "source": [
    "#### 8. Write a NumPy program to create a contigious flattened array. "
   ]
  },
  {
   "cell_type": "code",
   "execution_count": 35,
   "metadata": {},
   "outputs": [
    {
     "name": "stdout",
     "output_type": "stream",
     "text": [
      "The original array is : \n",
      "[[[[ 0  1]\n",
      "   [ 2  3]]\n",
      "\n",
      "  [[ 4  5]\n",
      "   [ 6  7]]]\n",
      "\n",
      "\n",
      " [[[ 8  9]\n",
      "   [10 11]]\n",
      "\n",
      "  [[12 13]\n",
      "   [14 15]]]]\n",
      "\n",
      "Updated array is :  \n",
      "[ 0  1  2  3  4  5  6  7  8  9 10 11 12 13 14 15]\n"
     ]
    }
   ],
   "source": [
    "arr = np.arange(16).reshape(2,2,2,2)\n",
    "print(\"The original array is : \")\n",
    "print(arr)\n",
    "print()\n",
    "\n",
    "ans = arr.ravel()\n",
    "print(\"Updated array is :  \")\n",
    "print(ans)"
   ]
  },
  {
   "cell_type": "markdown",
   "metadata": {},
   "source": [
    "#### 9. Write a NumPy program to change the data type of an array"
   ]
  },
  {
   "cell_type": "code",
   "execution_count": 39,
   "metadata": {},
   "outputs": [
    {
     "name": "stdout",
     "output_type": "stream",
     "text": [
      "int32\n",
      "Updated dtype of arr :  |S11\n"
     ]
    }
   ],
   "source": [
    "arr = np.array([1,2,3,4,5,6,7])\n",
    "print(arr.dtype)\n",
    "\n",
    "arr = arr.astype(\"S\")\n",
    "print(\"Updated dtype of arr :  {}\".format(arr.dtype))"
   ]
  },
  {
   "cell_type": "markdown",
   "metadata": {},
   "source": [
    "#### 10.  Write a NumPy program to create a 2-D array whose diagonal equals [1,2,3,4] and 0's elsewhere."
   ]
  },
  {
   "cell_type": "code",
   "execution_count": 40,
   "metadata": {},
   "outputs": [
    {
     "name": "stdout",
     "output_type": "stream",
     "text": [
      "[[1 0 0 0]\n",
      " [0 2 0 0]\n",
      " [0 0 3 0]\n",
      " [0 0 0 4]]\n"
     ]
    }
   ],
   "source": [
    "arr = np.diag([1,2,3,4])\n",
    "print(arr)"
   ]
  },
  {
   "cell_type": "markdown",
   "metadata": {},
   "source": [
    "#### 11. Write a NumPy program to create an array of three column types (integer, float, character). "
   ]
  },
  {
   "cell_type": "code",
   "execution_count": 70,
   "metadata": {},
   "outputs": [
    {
     "name": "stdout",
     "output_type": "stream",
     "text": [
      "[(1, 1., b'1') (2, 2., b'2') (3, 3., b'3')]\n",
      "[1, 2.0, b'3']\n"
     ]
    }
   ],
   "source": [
    "arr = np.array([1,2,3], dtype = (\"i,f,c\"))\n",
    "ans = []\n",
    "print(arr)\n",
    "ans.append(arr[0][0])\n",
    "ans.append(arr[1][1])\n",
    "ans.append(arr[2][2])\n",
    "print(ans)"
   ]
  },
  {
   "cell_type": "markdown",
   "metadata": {},
   "source": [
    "#### 12. Write a NumPy program to count the frequency of unique values in NumPy array."
   ]
  },
  {
   "cell_type": "code",
   "execution_count": 76,
   "metadata": {},
   "outputs": [
    {
     "name": "stdout",
     "output_type": "stream",
     "text": [
      "[(0, 1), (1, 4), (2, 3), (3, 2), (4, 2), (5, 1), (6, 3), (7, 1), (8, 1), (9, 1)]\n"
     ]
    }
   ],
   "source": [
    "arr = np.array([1,2,3,4,5,6,6,6,4,3,7,9,8,0,2,2,1,1,1])\n",
    "unique, count = np.unique(arr, return_counts = True)\n",
    "l = []\n",
    "for i in range(unique.size):\n",
    "    l.append((unique[i],count[i]))\n",
    "print(l)"
   ]
  },
  {
   "cell_type": "markdown",
   "metadata": {},
   "source": [
    "#### 13. How to create a boolean array?"
   ]
  },
  {
   "cell_type": "code",
   "execution_count": 80,
   "metadata": {},
   "outputs": [
    {
     "name": "stdout",
     "output_type": "stream",
     "text": [
      "[False  True  True  True  True]\n"
     ]
    }
   ],
   "source": [
    "arr = np.array([0,2,3,4,5], dtype = \"bool\")\n",
    "print(arr)"
   ]
  },
  {
   "cell_type": "markdown",
   "metadata": {},
   "source": [
    "#### 14. How to replace items that satisfy a condition without affecting the original array?"
   ]
  },
  {
   "cell_type": "code",
   "execution_count": 88,
   "metadata": {},
   "outputs": [
    {
     "name": "stdout",
     "output_type": "stream",
     "text": [
      "[0 1 2 3 4 5 6 7 8 9]\n",
      "[1 0 1 0 1 0 1 0 1 0]\n"
     ]
    }
   ],
   "source": [
    "arr = np.arange(10)\n",
    "x = np.where(arr%2==0,1,0)\n",
    "print(arr)\n",
    "print(x)"
   ]
  },
  {
   "cell_type": "markdown",
   "metadata": {},
   "source": [
    "#### 15. How to remove from one array those items that exist in another?"
   ]
  },
  {
   "cell_type": "code",
   "execution_count": 90,
   "metadata": {},
   "outputs": [
    {
     "name": "stdout",
     "output_type": "stream",
     "text": [
      "[1 2 3]\n"
     ]
    }
   ],
   "source": [
    "arr1 = np.array([1,2,3,4,5])\n",
    "arr2 = np.array([4,5,6,7,8])\n",
    "ans = np.setdiff1d(arr1,arr2)\n",
    "print(ans)"
   ]
  }
 ],
 "metadata": {
  "kernelspec": {
   "display_name": "Python 3",
   "language": "python",
   "name": "python3"
  },
  "language_info": {
   "codemirror_mode": {
    "name": "ipython",
    "version": 3
   },
   "file_extension": ".py",
   "mimetype": "text/x-python",
   "name": "python",
   "nbconvert_exporter": "python",
   "pygments_lexer": "ipython3",
   "version": "3.7.4"
  }
 },
 "nbformat": 4,
 "nbformat_minor": 2
}
